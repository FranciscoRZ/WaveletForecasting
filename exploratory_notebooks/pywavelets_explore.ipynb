{
 "cells": [
  {
   "cell_type": "code",
   "execution_count": 1,
   "metadata": {},
   "outputs": [],
   "source": [
    "import pywt"
   ]
  },
  {
   "cell_type": "markdown",
   "metadata": {},
   "source": [
    "### Available wavelets"
   ]
  },
  {
   "cell_type": "code",
   "execution_count": 2,
   "metadata": {},
   "outputs": [
    {
     "data": {
      "text/plain": [
       "['haar',\n",
       " 'db',\n",
       " 'sym',\n",
       " 'coif',\n",
       " 'bior',\n",
       " 'rbio',\n",
       " 'dmey',\n",
       " 'gaus',\n",
       " 'mexh',\n",
       " 'morl',\n",
       " 'cgau',\n",
       " 'shan',\n",
       " 'fbsp',\n",
       " 'cmor']"
      ]
     },
     "execution_count": 2,
     "metadata": {},
     "output_type": "execute_result"
    }
   ],
   "source": [
    "pywt.families()"
   ]
  },
  {
   "cell_type": "code",
   "execution_count": 3,
   "metadata": {},
   "outputs": [
    {
     "data": {
      "text/plain": [
       "['Haar',\n",
       " 'Daubechies',\n",
       " 'Symlets',\n",
       " 'Coiflets',\n",
       " 'Biorthogonal',\n",
       " 'Reverse biorthogonal',\n",
       " 'Discrete Meyer (FIR Approximation)',\n",
       " 'Gaussian',\n",
       " 'Mexican hat wavelet',\n",
       " 'Morlet wavelet',\n",
       " 'Complex Gaussian wavelets',\n",
       " 'Shannon wavelets',\n",
       " 'Frequency B-Spline wavelets',\n",
       " 'Complex Morlet wavelets']"
      ]
     },
     "execution_count": 3,
     "metadata": {},
     "output_type": "execute_result"
    }
   ],
   "source": [
    "pywt.families(short=False)"
   ]
  },
  {
   "cell_type": "code",
   "execution_count": 4,
   "metadata": {},
   "outputs": [
    {
     "data": {
      "text/plain": [
       "['cgau1',\n",
       " 'cgau2',\n",
       " 'cgau3',\n",
       " 'cgau4',\n",
       " 'cgau5',\n",
       " 'cgau6',\n",
       " 'cgau7',\n",
       " 'cgau8',\n",
       " 'cmor',\n",
       " 'fbsp',\n",
       " 'gaus1',\n",
       " 'gaus2',\n",
       " 'gaus3',\n",
       " 'gaus4',\n",
       " 'gaus5',\n",
       " 'gaus6',\n",
       " 'gaus7',\n",
       " 'gaus8',\n",
       " 'mexh',\n",
       " 'morl',\n",
       " 'shan']"
      ]
     },
     "execution_count": 4,
     "metadata": {},
     "output_type": "execute_result"
    }
   ],
   "source": [
    "pywt.wavelist(kind='continuous')"
   ]
  },
  {
   "cell_type": "code",
   "execution_count": 5,
   "metadata": {},
   "outputs": [
    {
     "data": {
      "text/plain": [
       "['morl']"
      ]
     },
     "execution_count": 5,
     "metadata": {},
     "output_type": "execute_result"
    }
   ],
   "source": [
    "pywt.wavelist(family='morl')"
   ]
  },
  {
   "cell_type": "code",
   "execution_count": 6,
   "metadata": {},
   "outputs": [
    {
     "data": {
      "text/plain": [
       "['haar']"
      ]
     },
     "execution_count": 6,
     "metadata": {},
     "output_type": "execute_result"
    }
   ],
   "source": [
    "pywt.wavelist(family='haar')"
   ]
  },
  {
   "cell_type": "markdown",
   "metadata": {},
   "source": [
    "### Wavelet objects"
   ]
  },
  {
   "cell_type": "code",
   "execution_count": 7,
   "metadata": {},
   "outputs": [],
   "source": [
    "haar = pywt.Wavelet(name='haar')"
   ]
  },
  {
   "cell_type": "code",
   "execution_count": 8,
   "metadata": {},
   "outputs": [],
   "source": [
    "morlet = pywt.ContinuousWavelet(name='morl')"
   ]
  },
  {
   "cell_type": "code",
   "execution_count": 9,
   "metadata": {},
   "outputs": [],
   "source": [
    "level = 1\n",
    "phi, psi = morlet.wavefun(level)"
   ]
  },
  {
   "cell_type": "code",
   "execution_count": 10,
   "metadata": {},
   "outputs": [
    {
     "data": {
      "text/plain": [
       "array([-8.44621402e-15, -8.44621402e-15])"
      ]
     },
     "execution_count": 10,
     "metadata": {},
     "output_type": "execute_result"
    }
   ],
   "source": [
    "phi"
   ]
  },
  {
   "cell_type": "code",
   "execution_count": 11,
   "metadata": {},
   "outputs": [
    {
     "data": {
      "text/plain": [
       "array([-8.,  8.])"
      ]
     },
     "execution_count": 11,
     "metadata": {},
     "output_type": "execute_result"
    }
   ],
   "source": [
    "psi"
   ]
  },
  {
   "cell_type": "code",
   "execution_count": 12,
   "metadata": {},
   "outputs": [
    {
     "name": "stdout",
     "output_type": "stream",
     "text": [
      "ContinuousWavelet morl\n",
      "  Family name:    Morlet wavelet\n",
      "  Short name:     morl\n",
      "  Symmetry:       symmetric\n",
      "  DWT:            False\n",
      "  CWT:            True\n",
      "  Complex CWT:    False\n"
     ]
    }
   ],
   "source": [
    "print(morlet)"
   ]
  },
  {
   "cell_type": "markdown",
   "metadata": {},
   "source": [
    "### Discrete Wavelet Transform"
   ]
  },
  {
   "cell_type": "code",
   "execution_count": 13,
   "metadata": {},
   "outputs": [],
   "source": [
    "import numpy as np\n",
    "import matplotlib.pyplot as plt\n",
    "%matplotlib inline"
   ]
  },
  {
   "cell_type": "markdown",
   "metadata": {},
   "source": [
    "<b> Simulate signal for transform </b>"
   ]
  },
  {
   "cell_type": "code",
   "execution_count": 14,
   "metadata": {},
   "outputs": [],
   "source": [
    "data = 2 * np.sin(np.linspace(-np.pi, np.pi, 20)) + np.random.rand(20)"
   ]
  },
  {
   "cell_type": "code",
   "execution_count": 15,
   "metadata": {},
   "outputs": [
    {
     "data": {
      "text/plain": [
       "[<matplotlib.lines.Line2D at 0x11e2c0dd8>]"
      ]
     },
     "execution_count": 15,
     "metadata": {},
     "output_type": "execute_result"
    },
    {
     "data": {
      "image/png": "[encoded data removed]",
      "text/plain": [
       "<Figure size 432x288 with 1 Axes>"
      ]
     },
     "metadata": {
      "needs_background": "light"
     },
     "output_type": "display_data"
    }
   ],
   "source": [
    "plt.plot(data)"
   ]
  },
  {
   "cell_type": "markdown",
   "metadata": {},
   "source": [
    "<b>Proceed to transform</b>"
   ]
  },
  {
   "cell_type": "code",
   "execution_count": 16,
   "metadata": {},
   "outputs": [],
   "source": [
    "# Create the wavelet object\n",
    "wavelet = pywt.Wavelet(name='haar')"
   ]
  },
  {
   "cell_type": "code",
   "execution_count": 17,
   "metadata": {},
   "outputs": [],
   "source": [
    "# Discrete transform signal\n",
    "# cA: Approximateion coefficients\n",
    "# cD: Detail coefficients\n",
    "cA, cD = pywt.dwt(data=data, wavelet=wavelet)"
   ]
  },
  {
   "cell_type": "code",
   "execution_count": 18,
   "metadata": {},
   "outputs": [
    {
     "data": {
      "text/plain": [
       "array([-0.15570813, -0.72524991, -2.09786236, -1.35150383, -0.50232616,\n",
       "        2.15586653,  2.47821025,  4.09104171,  2.87932814,  0.94499057])"
      ]
     },
     "execution_count": 18,
     "metadata": {},
     "output_type": "execute_result"
    }
   ],
   "source": [
    "cA"
   ]
  },
  {
   "cell_type": "code",
   "execution_count": 19,
   "metadata": {},
   "outputs": [
    {
     "data": {
      "text/plain": [
       "[<matplotlib.lines.Line2D at 0x11e367da0>]"
      ]
     },
     "execution_count": 19,
     "metadata": {},
     "output_type": "execute_result"
    },
    {
     "data": {
      "image/png": "[encoded data removed]",
      "text/plain": [
       "<Figure size 432x288 with 1 Axes>"
      ]
     },
     "metadata": {
      "needs_background": "light"
     },
     "output_type": "display_data"
    }
   ],
   "source": [
    "plt.plot(cA)"
   ]
  },
  {
   "cell_type": "code",
   "execution_count": 20,
   "metadata": {},
   "outputs": [
    {
     "data": {
      "text/plain": [
       "array([ 0.15610018,  0.28920145, -0.1517317 , -0.55671712, -0.421265  ,\n",
       "       -0.46610838, -0.12358662, -0.05794813,  0.87770489,  0.78782288])"
      ]
     },
     "execution_count": 20,
     "metadata": {},
     "output_type": "execute_result"
    }
   ],
   "source": [
    "cD"
   ]
  },
  {
   "cell_type": "code",
   "execution_count": 21,
   "metadata": {},
   "outputs": [
    {
     "data": {
      "text/plain": [
       "[<matplotlib.lines.Line2D at 0x11e48c400>]"
      ]
     },
     "execution_count": 21,
     "metadata": {},
     "output_type": "execute_result"
    },
    {
     "data": {
      "image/png": "[encoded data removed]",
      "text/plain": [
       "<Figure size 432x288 with 1 Axes>"
      ]
     },
     "metadata": {
      "needs_background": "light"
     },
     "output_type": "display_data"
    }
   ],
   "source": [
    "plt.plot(cD)"
   ]
  },
  {
   "cell_type": "markdown",
   "metadata": {},
   "source": [
    "### Inverse Discrete Wavelet Transform"
   ]
  },
  {
   "cell_type": "markdown",
   "metadata": {},
   "source": [
    "#### For multilevel reconstruction use _.waverec_"
   ]
  },
  {
   "cell_type": "code",
   "execution_count": 23,
   "metadata": {},
   "outputs": [],
   "source": [
    "signal = pywt.idwt(cA, cD, wavelet)"
   ]
  },
  {
   "cell_type": "code",
   "execution_count": 24,
   "metadata": {},
   "outputs": [
    {
     "data": {
      "text/plain": [
       "array([ 2.77219381e-04, -2.20481772e-01, -3.08332822e-01, -7.17325435e-01,\n",
       "       -1.59070322e+00, -1.37612218e+00, -1.34931597e+00, -5.61999071e-01,\n",
       "       -6.53077571e-01, -5.73188920e-02,  1.19483944e+00,  1.85401624e+00,\n",
       "        1.66497034e+00,  1.83974821e+00,  2.85182782e+00,  2.93377885e+00,\n",
       "        2.65662353e+00,  1.41536138e+00,  1.22528414e+00,  1.11134337e-01])"
      ]
     },
     "execution_count": 24,
     "metadata": {},
     "output_type": "execute_result"
    }
   ],
   "source": [
    "signal"
   ]
  },
  {
   "cell_type": "code",
   "execution_count": 25,
   "metadata": {},
   "outputs": [
    {
     "data": {
      "text/plain": [
       "[<matplotlib.lines.Line2D at 0x11e5ca400>]"
      ]
     },
     "execution_count": 25,
     "metadata": {},
     "output_type": "execute_result"
    },
    {
     "data": {
      "image/png": "[encoded data removed]",
      "text/plain": [
       "<Figure size 432x288 with 1 Axes>"
      ]
     },
     "metadata": {
      "needs_background": "light"
     },
     "output_type": "display_data"
    }
   ],
   "source": [
    "plt.plot(signal)"
   ]
  },
  {
   "cell_type": "code",
   "execution_count": 26,
   "metadata": {},
   "outputs": [],
   "source": [
    "signalA = pywt.idwt(cA, None, wavelet)"
   ]
  },
  {
   "cell_type": "code",
   "execution_count": 28,
   "metadata": {},
   "outputs": [
    {
     "data": {
      "text/plain": [
       "[<matplotlib.lines.Line2D at 0x11e68bbe0>]"
      ]
     },
     "execution_count": 28,
     "metadata": {},
     "output_type": "execute_result"
    },
    {
     "data": {
      "image/png": "[encoded data removed]",
      "text/plain": [
       "<Figure size 432x288 with 1 Axes>"
      ]
     },
     "metadata": {
      "needs_background": "light"
     },
     "output_type": "display_data"
    }
   ],
   "source": [
    "plt.plot(signalA)"
   ]
  },
  {
   "cell_type": "code",
   "execution_count": 29,
   "metadata": {},
   "outputs": [],
   "source": [
    "signalD = pywt.idwt(cD, None, wavelet)"
   ]
  },
  {
   "cell_type": "code",
   "execution_count": 30,
   "metadata": {},
   "outputs": [
    {
     "data": {
      "text/plain": [
       "[<matplotlib.lines.Line2D at 0x11e74c390>]"
      ]
     },
     "execution_count": 30,
     "metadata": {},
     "output_type": "execute_result"
    },
    {
     "data": {
      "image/png": "[encoded data removed]",
      "text/plain": [
       "<Figure size 432x288 with 1 Axes>"
      ]
     },
     "metadata": {
      "needs_background": "light"
     },
     "output_type": "display_data"
    }
   ],
   "source": [
    "plt.plot(signalD)"
   ]
  },
  {
   "cell_type": "markdown",
   "metadata": {},
   "source": [
    "<b>Direct reconstruction from coefficients</b>"
   ]
  },
  {
   "cell_type": "code",
   "execution_count": 31,
   "metadata": {},
   "outputs": [],
   "source": [
    "signalA = pywt.upcoef('a', cA, wavelet)"
   ]
  },
  {
   "cell_type": "code",
   "execution_count": 32,
   "metadata": {},
   "outputs": [],
   "source": [
    "signalD = pywt.upcoef('d', cD, wavelet)"
   ]
  },
  {
   "cell_type": "code",
   "execution_count": 33,
   "metadata": {},
   "outputs": [
    {
     "data": {
      "text/plain": [
       "[<matplotlib.lines.Line2D at 0x11e7af0f0>]"
      ]
     },
     "execution_count": 33,
     "metadata": {},
     "output_type": "execute_result"
    },
    {
     "data": {
      "image/png": "[encoded data removed]",
      "text/plain": [
       "<Figure size 432x288 with 1 Axes>"
      ]
     },
     "metadata": {
      "needs_background": "light"
     },
     "output_type": "display_data"
    }
   ],
   "source": [
    "plt.plot(signalA)"
   ]
  },
  {
   "cell_type": "code",
   "execution_count": 34,
   "metadata": {},
   "outputs": [
    {
     "data": {
      "text/plain": [
       "[<matplotlib.lines.Line2D at 0x11e85d668>]"
      ]
     },
     "execution_count": 34,
     "metadata": {},
     "output_type": "execute_result"
    },
    {
     "data": {
      "image/png": "[encoded data removed]",
      "text/plain": [
       "<Figure size 432x288 with 1 Axes>"
      ]
     },
     "metadata": {
      "needs_background": "light"
     },
     "output_type": "display_data"
    }
   ],
   "source": [
    "plt.plot(signalD)"
   ]
  },
  {
   "cell_type": "markdown",
   "metadata": {},
   "source": [
    "### Stationary Wavelet Transform"
   ]
  },
  {
   "cell_type": "markdown",
   "metadata": {},
   "source": [
    "#### Also known as Algorithme à trous"
   ]
  },
  {
   "cell_type": "markdown",
   "metadata": {},
   "source": [
    "<b>Multilevel 1D swt</b>"
   ]
  },
  {
   "cell_type": "code",
   "execution_count": 35,
   "metadata": {},
   "outputs": [],
   "source": [
    "coeffs = pywt.swt(data, wavelet=wavelet)"
   ]
  },
  {
   "cell_type": "code",
   "execution_count": 36,
   "metadata": {},
   "outputs": [
    {
     "data": {
      "text/plain": [
       "[(array([-0.62293141, -1.41842162, -1.99624183, -2.5167334 , -2.43907022,\n",
       "         -1.9702574 , -1.31085575, -0.03877805,  1.16922961,  2.32825356,\n",
       "          3.27678712,  4.1052813 ,  4.64516261,  5.14098921,  4.92879579,\n",
       "          4.11552395,  2.70420169,  1.37602854,  0.55810696, -0.20870152]),\n",
       "  array([ 0.40272685,  0.88960703,  0.97058357,  0.20870475, -0.52775518,\n",
       "         -0.75518075, -0.60045929, -1.1762986 , -1.87962607, -1.19073301,\n",
       "         -0.22793143, -0.58629473, -1.14044406, -0.44941318,  0.85681088,\n",
       "          1.47487843,  1.36778322,  1.26461698,  0.77831151,  0.32011308])),\n",
       " (array([-0.15570813, -0.37392839, -0.72524991, -1.63202271, -2.09786236,\n",
       "         -1.9271758 , -1.35150383, -0.85918893, -0.50232616,  0.80434849,\n",
       "          2.15586653,  2.48829927,  2.47821025,  3.31744523,  4.09104171,\n",
       "          3.95301144,  2.87932814,  1.86721835,  0.94499057,  0.07877987]),\n",
       "  array([ 0.15610018,  0.06212007,  0.28920145,  0.61757135, -0.1517317 ,\n",
       "         -0.01895485, -0.55671712,  0.06440222, -0.421265  , -0.88540965,\n",
       "         -0.46610838,  0.13367564, -0.12358662, -0.71564835, -0.05794813,\n",
       "          0.1959784 ,  0.87770489,  0.13440491,  0.78782288,  0.07838782]))]"
      ]
     },
     "execution_count": 36,
     "metadata": {},
     "output_type": "execute_result"
    }
   ],
   "source": [
    "coeffs"
   ]
  },
  {
   "cell_type": "code",
   "execution_count": 37,
   "metadata": {},
   "outputs": [
    {
     "data": {
      "text/plain": [
       "(array([-0.62293141, -1.41842162, -1.99624183, -2.5167334 , -2.43907022,\n",
       "        -1.9702574 , -1.31085575, -0.03877805,  1.16922961,  2.32825356,\n",
       "         3.27678712,  4.1052813 ,  4.64516261,  5.14098921,  4.92879579,\n",
       "         4.11552395,  2.70420169,  1.37602854,  0.55810696, -0.20870152]),\n",
       " array([ 0.40272685,  0.88960703,  0.97058357,  0.20870475, -0.52775518,\n",
       "        -0.75518075, -0.60045929, -1.1762986 , -1.87962607, -1.19073301,\n",
       "        -0.22793143, -0.58629473, -1.14044406, -0.44941318,  0.85681088,\n",
       "         1.47487843,  1.36778322,  1.26461698,  0.77831151,  0.32011308]))"
      ]
     },
     "execution_count": 37,
     "metadata": {},
     "output_type": "execute_result"
    }
   ],
   "source": [
    "coeffs[0]"
   ]
  },
  {
   "cell_type": "markdown",
   "metadata": {},
   "source": [
    "<b>Inverse stationnary wavelet transform</b>"
   ]
  },
  {
   "cell_type": "code",
   "execution_count": 38,
   "metadata": {},
   "outputs": [],
   "source": [
    "signal = pywt.iswt(coeffs, wavelet)"
   ]
  },
  {
   "cell_type": "code",
   "execution_count": 39,
   "metadata": {},
   "outputs": [
    {
     "data": {
      "text/plain": [
       "[<matplotlib.lines.Line2D at 0x11e91da58>]"
      ]
     },
     "execution_count": 39,
     "metadata": {},
     "output_type": "execute_result"
    },
    {
     "data": {
      "image/png": "[encoded data removed]",
      "text/plain": [
       "<Figure size 432x288 with 1 Axes>"
      ]
     },
     "metadata": {
      "needs_background": "light"
     },
     "output_type": "display_data"
    }
   ],
   "source": [
    "plt.plot(signal)"
   ]
  },
  {
   "cell_type": "markdown",
   "metadata": {},
   "source": [
    "### Continuous wavelet transforms"
   ]
  },
  {
   "cell_type": "code",
   "execution_count": 40,
   "metadata": {},
   "outputs": [],
   "source": [
    "morlet = pywt.ContinuousWavelet(name=\"morl\")"
   ]
  },
  {
   "cell_type": "code",
   "execution_count": 42,
   "metadata": {},
   "outputs": [
    {
     "name": "stdout",
     "output_type": "stream",
     "text": [
      "ContinuousWavelet morl\n",
      "  Family name:    Morlet wavelet\n",
      "  Short name:     morl\n",
      "  Symmetry:       symmetric\n",
      "  DWT:            False\n",
      "  CWT:            True\n",
      "  Complex CWT:    False\n"
     ]
    }
   ],
   "source": [
    "print(morlet)"
   ]
  },
  {
   "cell_type": "code",
   "execution_count": 78,
   "metadata": {},
   "outputs": [],
   "source": [
    "scales = [pywt.scale2frequency(morlet, 6 - i) / i for i in range(1,6)]"
   ]
  },
  {
   "cell_type": "code",
   "execution_count": 86,
   "metadata": {},
   "outputs": [
    {
     "data": {
      "text/plain": [
       "[0.1625, 0.1015625, 0.09027777777777778, 0.1015625, 0.1625]"
      ]
     },
     "execution_count": 86,
     "metadata": {},
     "output_type": "execute_result"
    }
   ],
   "source": [
    "scales"
   ]
  },
  {
   "cell_type": "code",
   "execution_count": 82,
   "metadata": {},
   "outputs": [],
   "source": [
    "coefs, frequencies = pywt.cwt(data, scales, morlet)"
   ]
  },
  {
   "cell_type": "code",
   "execution_count": 83,
   "metadata": {},
   "outputs": [
    {
     "data": {
      "text/plain": [
       "array([[ 4.19130359e-06, -1.70303477e-03, -6.74246587e-04,\n",
       "        -3.14854978e-03, -6.74285586e-03,  1.65591970e-03,\n",
       "         1.99577248e-04,  6.07747717e-03, -7.08494457e-04,\n",
       "         4.58651818e-03,  9.65822087e-03,  5.08938302e-03,\n",
       "        -1.46070916e-03,  1.33955598e-03,  7.81062162e-03,\n",
       "         6.35086257e-04, -2.12759059e-03, -9.57848221e-03,\n",
       "        -1.45669020e-03, -8.59814355e-03],\n",
       "       [ 1.34766987e-03,  5.36305280e-04,  2.49678175e-03,\n",
       "         5.33171904e-03, -1.30995523e-03, -1.63644177e-04,\n",
       "        -4.80634221e-03,  5.56007929e-04, -3.63693462e-03,\n",
       "        -7.64406488e-03, -4.02408392e-03,  1.15407061e-03,\n",
       "        -1.06696842e-03, -6.17845362e-03, -5.00287375e-04,\n",
       "         1.69195315e-03,  7.57754686e-03,  1.16036664e-03,\n",
       "         6.80156266e-03,  6.78443021e-04],\n",
       "       [ 7.71704041e-05,  3.07099655e-05,  1.42970961e-04,\n",
       "         3.05305418e-04, -7.50107846e-05, -9.37060889e-06,\n",
       "        -2.75221239e-04,  3.18381805e-05, -2.08258507e-04,\n",
       "        -4.37715193e-04, -2.30427488e-04,  6.60845046e-05,\n",
       "        -6.10968501e-05, -3.53791217e-04, -2.86475047e-05,\n",
       "         9.68847870e-05,  4.33906231e-04,  6.64450286e-05,\n",
       "         3.89471748e-04,  3.88490708e-05],\n",
       "       [ 1.34766987e-03,  5.36305280e-04,  2.49678175e-03,\n",
       "         5.33171904e-03, -1.30995523e-03, -1.63644177e-04,\n",
       "        -4.80634221e-03,  5.56007929e-04, -3.63693462e-03,\n",
       "        -7.64406488e-03, -4.02408392e-03,  1.15407061e-03,\n",
       "        -1.06696842e-03, -6.17845362e-03, -5.00287375e-04,\n",
       "         1.69195315e-03,  7.57754686e-03,  1.16036664e-03,\n",
       "         6.80156266e-03,  6.78443021e-04],\n",
       "       [ 4.19130359e-06, -1.70303477e-03, -6.74246587e-04,\n",
       "        -3.14854978e-03, -6.74285586e-03,  1.65591970e-03,\n",
       "         1.99577248e-04,  6.07747717e-03, -7.08494457e-04,\n",
       "         4.58651818e-03,  9.65822087e-03,  5.08938302e-03,\n",
       "        -1.46070916e-03,  1.33955598e-03,  7.81062162e-03,\n",
       "         6.35086257e-04, -2.12759059e-03, -9.57848221e-03,\n",
       "        -1.45669020e-03, -8.59814355e-03]])"
      ]
     },
     "execution_count": 83,
     "metadata": {},
     "output_type": "execute_result"
    }
   ],
   "source": [
    "coefs"
   ]
  },
  {
   "cell_type": "code",
   "execution_count": 84,
   "metadata": {},
   "outputs": [
    {
     "data": {
      "text/plain": [
       "array([5., 8., 9., 8., 5.])"
      ]
     },
     "execution_count": 84,
     "metadata": {},
     "output_type": "execute_result"
    }
   ],
   "source": [
    "frequencies"
   ]
  },
  {
   "cell_type": "code",
   "execution_count": 77,
   "metadata": {},
   "outputs": [
    {
     "data": {
      "text/plain": [
       "array([ 0.00960886,  0.00337192,  0.0221548 ,  0.010573  , -0.04612456,\n",
       "       -0.02252532, -0.0226275 ,  0.01946158, -0.03248202, -0.03468003,\n",
       "        0.03379071,  0.04752716, -0.0174439 , -0.03264181,  0.04112746,\n",
       "        0.05173593,  0.04030745, -0.02171893,  0.01220797, -0.039296  ])"
      ]
     },
     "execution_count": 77,
     "metadata": {},
     "output_type": "execute_result"
    }
   ],
   "source": [
    "coefs[0][0]"
   ]
  },
  {
   "cell_type": "markdown",
   "metadata": {},
   "source": [
    "#### Doc example 1"
   ]
  },
  {
   "cell_type": "code",
   "execution_count": 87,
   "metadata": {},
   "outputs": [],
   "source": [
    "x = np.arange(512)\n",
    "y = np.sin(2 * np.pi * x / 32)\n",
    "coef, freq = pywt.cwt(y, np.arange(1, 129), 'gaus1')"
   ]
  },
  {
   "cell_type": "code",
   "execution_count": 88,
   "metadata": {},
   "outputs": [
    {
     "data": {
      "text/plain": [
       "<matplotlib.image.AxesImage at 0x122e676a0>"
      ]
     },
     "execution_count": 88,
     "metadata": {},
     "output_type": "execute_result"
    },
    {
     "data": {
      "image/png": "[encoded data removed]",
      "text/plain": [
       "<Figure size 1152x288 with 1 Axes>"
      ]
     },
     "metadata": {
      "needs_background": "light"
     },
     "output_type": "display_data"
    }
   ],
   "source": [
    "plt.matshow(coef)"
   ]
  },
  {
   "cell_type": "code",
   "execution_count": 92,
   "metadata": {},
   "outputs": [
    {
     "data": {
      "text/plain": [
       "(128, 512)"
      ]
     },
     "execution_count": 92,
     "metadata": {},
     "output_type": "execute_result"
    }
   ],
   "source": [
    "coef.shape"
   ]
  },
  {
   "cell_type": "markdown",
   "metadata": {},
   "source": [
    "#### Doc example 2"
   ]
  },
  {
   "cell_type": "code",
   "execution_count": 93,
   "metadata": {},
   "outputs": [],
   "source": [
    "t = np.linspace(-1, 1, 200, endpoint=False)"
   ]
  },
  {
   "cell_type": "code",
   "execution_count": 94,
   "metadata": {},
   "outputs": [],
   "source": [
    "sig = np.cos(2 * np.pi * 7 * t) + np.real(np.exp(-7*(t-0.4)**2)*np.exp(1j*2*np.pi*2*(t-0.4)))"
   ]
  },
  {
   "cell_type": "code",
   "execution_count": 95,
   "metadata": {},
   "outputs": [
    {
     "data": {
      "text/plain": [
       "array([ 1.00000034e+00,  9.04827303e-01,  6.37424092e-01,  2.48689764e-01,\n",
       "       -1.87381761e-01, -5.87786142e-01, -8.76308161e-01, -9.98028975e-01,\n",
       "       -9.29779703e-01, -6.84551528e-01, -3.09022886e-01,  1.25325583e-01,\n",
       "        5.35817078e-01,  8.44315824e-01,  9.92099905e-01,  9.51038737e-01,\n",
       "        7.28947630e-01,  3.68100184e-01, -6.28182880e-02, -4.81784698e-01,\n",
       "       -8.09050900e-01, -9.82323365e-01, -9.68620439e-01, -7.70550182e-01,\n",
       "       -4.25813844e-01, -2.94782161e-05,  4.25758309e-01,  7.70505001e-01,\n",
       "        9.68592809e-01,  9.82320907e-01,  8.09081784e-01,  4.81857735e-01,\n",
       "        6.29429588e-02, -3.67913757e-01, -7.28688796e-01, -9.50696527e-01,\n",
       "       -9.91663339e-01, -8.43774349e-01, -5.35161128e-01, -1.24547283e-01,\n",
       "        3.09928876e-01,  6.85587021e-01,  9.30941851e-01,  9.99309014e-01,\n",
       "        8.77690041e-01,  5.89245082e-01,  1.88882764e-01, -2.47193378e-01,\n",
       "       -6.35992077e-01, -9.03533721e-01, -9.98934551e-01, -9.04094745e-01,\n",
       "       -6.37146229e-01, -2.49003845e-01,  1.86323774e-01,  5.85819458e-01,\n",
       "        8.73257962e-01,  9.93714258e-01,  9.24018228e-01,  6.77165947e-01,\n",
       "        2.99848071e-01, -1.36434022e-01, -5.48973146e-01, -8.59592494e-01,\n",
       "       -1.00951763e+00, -9.70553412e-01, -7.50438243e-01, -3.91356639e-01,\n",
       "        3.81067921e-02,  4.56040175e-01,  7.82815409e-01,  9.56265554e-01,\n",
       "        9.43539142e-01,  7.47374440e-01,  4.05598704e-01, -1.60530084e-02,\n",
       "       -4.36433401e-01, -7.74415301e-01, -9.64324290e-01, -9.68435029e-01,\n",
       "       -7.84153609e-01, -4.44519719e-01, -1.19338657e-02,  4.33695652e-01,\n",
       "        8.10129291e-01,  1.04840722e+00,  1.10592308e+00,  9.74472276e-01,\n",
       "        6.81743266e-01,  2.85968879e-01, -1.35243051e-01, -4.99772132e-01,\n",
       "       -7.36710052e-01, -7.99952031e-01, -6.77065486e-01, -3.91745016e-01,\n",
       "        6.16567261e-04,  4.23401212e-01,  7.93292219e-01,  1.03609244e+00,\n",
       "        1.10082600e+00,  9.69441993e-01,  6.60275200e-01,  2.24606938e-01,\n",
       "       -2.63018320e-01, -7.18876847e-01, -1.06586962e+00, -1.24803924e+00,\n",
       "       -1.24103850e+00, -1.05656081e+00, -7.39892812e-01, -3.61059369e-01,\n",
       "       -1.25167988e-03,  2.62872482e-01,  3.74021828e-01,  3.05407990e-01,\n",
       "        6.60589638e-02, -3.00708409e-01, -7.25372450e-01, -1.12531423e+00,\n",
       "       -1.42045889e+00, -1.54847781e+00, -1.47666119e+00, -1.20820327e+00,\n",
       "       -7.81704677e-01, -2.63986053e-01,  2.62421039e-01,  7.14728294e-01,\n",
       "        1.02535294e+00,  1.15445093e+00,  1.09714253e+00,  8.84062942e-01,\n",
       "        5.75142046e-01,  2.47806505e-01, -1.81404794e-02, -1.56074158e-01,\n",
       "       -1.25567899e-01,  7.96093813e-02,  4.30048127e-01,  8.66087230e-01,\n",
       "        1.30901699e+00,  1.67596757e+00,  1.89565141e+00,  1.92196404e+00,\n",
       "        1.74285348e+00,  1.38276761e+00,  8.98209463e-01,  3.67241171e-01,\n",
       "       -1.25072463e-01, -5.02517784e-01, -7.11874464e-01, -7.32663372e-01,\n",
       "       -5.80654212e-01, -3.04474836e-01,  2.40230623e-02,  3.23799199e-01,\n",
       "        5.20381295e-01,  5.60336699e-01,  4.21698456e-01,  1.18356548e-01,\n",
       "       -3.02424897e-01, -7.68893786e-01, -1.19840873e+00, -1.51316089e+00,\n",
       "       -1.65502436e+00, -1.59670504e+00, -1.34706150e+00, -9.49579996e-01,\n",
       "       -4.74287955e-01, -4.63892800e-03,  3.78141176e-01,  6.10273545e-01,\n",
       "        6.57321150e-01,  5.20500731e-01,  2.36216350e-01, -1.31091594e-01,\n",
       "       -5.01416297e-01, -7.94596192e-01, -9.45731950e-01, -9.17672311e-01,\n",
       "       -7.08190993e-01, -3.50488289e-01,  9.30777096e-02,  5.42835877e-01,\n",
       "        9.16966509e-01,  1.14709675e+00,  1.19135590e+00,  1.04240262e+00,\n",
       "        7.28893229e-01,  3.10108207e-01, -1.35243051e-01, -5.23911461e-01,\n",
       "       -7.83860014e-01, -8.67882378e-01, -7.62498304e-01, -4.90434552e-01,\n",
       "       -1.06220651e-01,  3.14260986e-01,  6.88280644e-01,  9.42061008e-01])"
      ]
     },
     "execution_count": 95,
     "metadata": {},
     "output_type": "execute_result"
    }
   ],
   "source": [
    "sig"
   ]
  },
  {
   "cell_type": "code",
   "execution_count": 96,
   "metadata": {},
   "outputs": [],
   "source": [
    "widths = np.arange(1,31)"
   ]
  },
  {
   "cell_type": "code",
   "execution_count": 97,
   "metadata": {},
   "outputs": [],
   "source": [
    "cwtmatr, freqs = pywt.cwt(sig, widths, 'mexh')"
   ]
  },
  {
   "cell_type": "code",
   "execution_count": 99,
   "metadata": {},
   "outputs": [
    {
     "data": {
      "image/png": "[encoded data removed]",
      "text/plain": [
       "<Figure size 432x288 with 1 Axes>"
      ]
     },
     "metadata": {
      "needs_background": "light"
     },
     "output_type": "display_data"
    }
   ],
   "source": [
    "plt.imshow(cwtmatr, extent=[-1,1,1,31], cmap='PRGn', aspect='auto',\n",
    "          vmax=abs(cwtmatr).max(), vmin=-abs(cwtmatr).max())\n",
    "plt.show()"
   ]
  },
  {
   "cell_type": "code",
   "execution_count": 101,
   "metadata": {},
   "outputs": [
    {
     "data": {
      "text/plain": [
       "[<matplotlib.lines.Line2D at 0x123f74940>]"
      ]
     },
     "execution_count": 101,
     "metadata": {},
     "output_type": "execute_result"
    },
    {
     "data": {
      "image/png": "[encoded data removed]",
      "text/plain": [
       "<Figure size 432x288 with 1 Axes>"
      ]
     },
     "metadata": {
      "needs_background": "light"
     },
     "output_type": "display_data"
    }
   ],
   "source": [
    "plt.plot(sig)"
   ]
  },
  {
   "cell_type": "code",
   "execution_count": 102,
   "metadata": {},
   "outputs": [
    {
     "data": {
      "text/plain": [
       "array([[ 0.12431304,  0.77070244,  0.50238917, ...,  0.03958089,\n",
       "         0.40605807,  0.80210377],\n",
       "       [ 0.69308482,  1.41087083,  1.57234825, ...,  0.56071765,\n",
       "         1.24796812,  1.35251469],\n",
       "       [ 1.33630703,  1.78780772,  1.81431953, ...,  0.41648293,\n",
       "         1.15455546,  1.42187524],\n",
       "       ...,\n",
       "       [ 0.07840119,  0.05331889,  0.10181679, ..., -0.24436671,\n",
       "        -0.16837688, -0.17127114],\n",
       "       [ 0.08104904,  0.05759207,  0.03553738, ..., -0.27614101,\n",
       "        -0.28998893, -0.22949606],\n",
       "       [ 0.08482343,  0.06911481,  0.05253281, ..., -0.37098401,\n",
       "        -0.32094346, -0.26638691]])"
      ]
     },
     "execution_count": 102,
     "metadata": {},
     "output_type": "execute_result"
    }
   ],
   "source": [
    "cwtmatr"
   ]
  },
  {
   "cell_type": "code",
   "execution_count": 103,
   "metadata": {},
   "outputs": [
    {
     "data": {
      "text/plain": [
       "(200,)"
      ]
     },
     "execution_count": 103,
     "metadata": {},
     "output_type": "execute_result"
    }
   ],
   "source": [
    "sig.shape"
   ]
  },
  {
   "cell_type": "code",
   "execution_count": 104,
   "metadata": {},
   "outputs": [
    {
     "data": {
      "text/plain": [
       "(30, 200)"
      ]
     },
     "execution_count": 104,
     "metadata": {},
     "output_type": "execute_result"
    }
   ],
   "source": [
    "cwtmatr.shape"
   ]
  }
 ],
 "metadata": {
  "kernelspec": {
   "display_name": "Python 3",
   "language": "python",
   "name": "python3"
  },
  "language_info": {
   "codemirror_mode": {
    "name": "ipython",
    "version": 3
   },
   "file_extension": ".py",
   "mimetype": "text/x-python",
   "name": "python",
   "nbconvert_exporter": "python",
   "pygments_lexer": "ipython3",
   "version": "3.6.10"
  }
 },
 "nbformat": 4,
 "nbformat_minor": 4
}
