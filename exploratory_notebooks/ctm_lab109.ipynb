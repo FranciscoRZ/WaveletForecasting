{
 "cells": [
  {
   "cell_type": "markdown",
   "metadata": {},
   "source": [
    "### Coding the matrix: lab number 9"
   ]
  },
  {
   "cell_type": "markdown",
   "metadata": {},
   "source": [
    "[Book website](http://codingthematrix.com/)"
   ]
  },
  {
   "cell_type": "markdown",
   "metadata": {},
   "source": [
    "#### Task 10.9.1: Unnormalized forward transform"
   ]
  },
  {
   "cell_type": "code",
   "execution_count": 1,
   "metadata": {},
   "outputs": [
    {
     "data": {
      "text/plain": [
       "16"
      ]
     },
     "execution_count": 1,
     "metadata": {},
     "output_type": "execute_result"
    }
   ],
   "source": [
    "v = [4,5,3,7,4,5,2,3,9,7,3,5,0,0,0,0]\n",
    "len(v)"
   ]
  },
  {
   "cell_type": "code",
   "execution_count": 45,
   "metadata": {},
   "outputs": [],
   "source": [
    "def forward_no_normalization(v: list) -> dict:\n",
    "    D = {}\n",
    "    while (len(v) > 1):\n",
    "        # v is a k-element list\n",
    "        k = len(v)\n",
    "        # vnew is a k // 2 -element list\n",
    "        vnew = [(v[2*i] + v[2*i + 1]) / 2 for i in range(0, k // 2)]\n",
    "        # w is a list of coefficients of lenght k // 2\n",
    "        w = [(v[2*i] - v[2*i + 1]) for i in range(0, k // 2)]  # unnormalized coefficients of basis for W(k/2)\n",
    "        # dictionary with keys (k//2, 0), (k//2, 1), (k//2, k//2-1) and values from w\n",
    "        D.update({(k//2, i) : w[i] for i in range(len(w))}) \n",
    "        v = vnew\n",
    "    # v is a 1-element list\n",
    "    D[(0,0)] = v[0] # store the last wavelet coefficient\n",
    "    return D"
   ]
  },
  {
   "cell_type": "code",
   "execution_count": 46,
   "metadata": {},
   "outputs": [],
   "source": [
    "import collections \n",
    "v_test=[4,5,3,7,4,5,2,3,9,7,3,5,0,0,0,0]\n",
    "output = collections.OrderedDict(sorted(forward_no_normalization(v_test).items()))"
   ]
  },
  {
   "cell_type": "code",
   "execution_count": 47,
   "metadata": {},
   "outputs": [],
   "source": [
    "expected = {(8,3): -1, (0,0): 3.5625, (8,2): -1, (8,1): -4, (4,1): 2.0, (4,3): 0.0,\n",
    "   (8,0): -1, (2,1): 6.0, (2,0): 1.25, (8,7): 0, (4,2): 4.0, (8,6): 0,\n",
    "   (1,0): 1.125, (4,0): -0.5, (8,5): -2, (8,4): 2}\n",
    "expected = collections.OrderedDict(sorted(expected.items()))"
   ]
  },
  {
   "cell_type": "code",
   "execution_count": 48,
   "metadata": {},
   "outputs": [
    {
     "data": {
      "text/plain": [
       "OrderedDict([((0, 0), 3.5625),\n",
       "             ((1, 0), 1.125),\n",
       "             ((2, 0), 1.25),\n",
       "             ((2, 1), 6.0),\n",
       "             ((4, 0), -0.5),\n",
       "             ((4, 1), 2.0),\n",
       "             ((4, 2), 4.0),\n",
       "             ((4, 3), 0.0),\n",
       "             ((8, 0), -1),\n",
       "             ((8, 1), -4),\n",
       "             ((8, 2), -1),\n",
       "             ((8, 3), -1),\n",
       "             ((8, 4), 2),\n",
       "             ((8, 5), -2),\n",
       "             ((8, 6), 0),\n",
       "             ((8, 7), 0)])"
      ]
     },
     "execution_count": 48,
     "metadata": {},
     "output_type": "execute_result"
    }
   ],
   "source": [
    "expected"
   ]
  },
  {
   "cell_type": "code",
   "execution_count": 49,
   "metadata": {},
   "outputs": [
    {
     "data": {
      "text/plain": [
       "OrderedDict([((0, 0), 3.5625),\n",
       "             ((1, 0), 1.125),\n",
       "             ((2, 0), 1.25),\n",
       "             ((2, 1), 6.0),\n",
       "             ((4, 0), -0.5),\n",
       "             ((4, 1), 2.0),\n",
       "             ((4, 2), 4.0),\n",
       "             ((4, 3), 0.0),\n",
       "             ((8, 0), -1),\n",
       "             ((8, 1), -4),\n",
       "             ((8, 2), -1),\n",
       "             ((8, 3), -1),\n",
       "             ((8, 4), 2),\n",
       "             ((8, 5), -2),\n",
       "             ((8, 6), 0),\n",
       "             ((8, 7), 0)])"
      ]
     },
     "execution_count": 49,
     "metadata": {},
     "output_type": "execute_result"
    }
   ],
   "source": [
    "output"
   ]
  },
  {
   "cell_type": "markdown",
   "metadata": {},
   "source": [
    "#### Task 10.9.2: Normalization in the forward transform"
   ]
  },
  {
   "cell_type": "code",
   "execution_count": 80,
   "metadata": {},
   "outputs": [],
   "source": [
    "def normalize_coefficients(n: int, coeffs: dict) -> dict:\n",
    "    keys = [x for x in coeffs.keys() if x != (0,0)]\n",
    "    D = dict()\n",
    "    for si in keys:\n",
    "        norm = pow(n / (4 * si[0]), 0.5)\n",
    "        D.update({si:coeffs[si] * norm})\n",
    "    D.update({(0,0):coeffs[(0,0)] * pow(n, 0.5)})\n",
    "    return D"
   ]
  },
  {
   "cell_type": "code",
   "execution_count": 81,
   "metadata": {},
   "outputs": [],
   "source": [
    "d_test = {(2,0):1, (2,1):1, (1,0):1, (0,0):1}\n",
    "d_expected = collections.OrderedDict(sorted({(2, 0): 0.707, (1, 0): 1.0, (0, 0): 2.0, (2, 1): 0.707}.items()))"
   ]
  },
  {
   "cell_type": "code",
   "execution_count": 82,
   "metadata": {},
   "outputs": [],
   "source": [
    "d_result = collections.OrderedDict(sorted(normalize_coefficients(4, d_test).items()))"
   ]
  },
  {
   "cell_type": "code",
   "execution_count": 83,
   "metadata": {},
   "outputs": [
    {
     "data": {
      "text/plain": [
       "OrderedDict([((0, 0), 2.0), ((1, 0), 1.0), ((2, 0), 0.707), ((2, 1), 0.707)])"
      ]
     },
     "execution_count": 83,
     "metadata": {},
     "output_type": "execute_result"
    }
   ],
   "source": [
    "d_expected"
   ]
  },
  {
   "cell_type": "code",
   "execution_count": 84,
   "metadata": {},
   "outputs": [
    {
     "data": {
      "text/plain": [
       "OrderedDict([((0, 0), 2.0),\n",
       "             ((1, 0), 1.0),\n",
       "             ((2, 0), 0.7071067811865476),\n",
       "             ((2, 1), 0.7071067811865476)])"
      ]
     },
     "execution_count": 84,
     "metadata": {},
     "output_type": "execute_result"
    }
   ],
   "source": [
    "d_result"
   ]
  },
  {
   "cell_type": "code",
   "execution_count": 86,
   "metadata": {},
   "outputs": [],
   "source": [
    "v_test = [1,2,3,4]\n",
    "d_test = forward_no_normalization(v_test)"
   ]
  },
  {
   "cell_type": "code",
   "execution_count": 87,
   "metadata": {},
   "outputs": [
    {
     "data": {
      "text/plain": [
       "{(2, 0): -0.7071067811865476,\n",
       " (2, 1): -0.7071067811865476,\n",
       " (1, 0): -2.0,\n",
       " (0, 0): 5.0}"
      ]
     },
     "execution_count": 87,
     "metadata": {},
     "output_type": "execute_result"
    }
   ],
   "source": [
    "normalize_coefficients(4, d_test)"
   ]
  },
  {
   "cell_type": "markdown",
   "metadata": {},
   "source": [
    "#### Task 10.9.3 Forward transform to normalized Haar wavelet basis\n",
    "<p>Combines the forward_no_transform and the normalize_coefficients</p>"
   ]
  },
  {
   "cell_type": "code",
   "execution_count": 91,
   "metadata": {},
   "outputs": [],
   "source": [
    "v_test = [1,2,3,4]\n",
    "d_expected = collections.OrderedDict(sorted({(2, 0): -(1/2)**0.5, (2,1): -(1/2)**0.5, (1, 0): -2, (0, 0): 5}.items()))"
   ]
  },
  {
   "cell_type": "code",
   "execution_count": 89,
   "metadata": {},
   "outputs": [],
   "source": [
    "def forward(v: list) -> dict:\n",
    "    n = len(v)\n",
    "    return normalize_coefficients(n, forward_no_normalization(v))"
   ]
  },
  {
   "cell_type": "code",
   "execution_count": 95,
   "metadata": {},
   "outputs": [
    {
     "data": {
      "text/plain": [
       "OrderedDict([((0, 0), 5.0),\n",
       "             ((1, 0), -2.0),\n",
       "             ((2, 0), -0.7071067811865476),\n",
       "             ((2, 1), -0.7071067811865476)])"
      ]
     },
     "execution_count": 95,
     "metadata": {},
     "output_type": "execute_result"
    }
   ],
   "source": [
    "collections.OrderedDict(sorted(forward(v_test).items()))"
   ]
  },
  {
   "cell_type": "code",
   "execution_count": 96,
   "metadata": {},
   "outputs": [
    {
     "data": {
      "text/plain": [
       "OrderedDict([((0, 0), 5),\n",
       "             ((1, 0), -2),\n",
       "             ((2, 0), -0.7071067811865476),\n",
       "             ((2, 1), -0.7071067811865476)])"
      ]
     },
     "execution_count": 96,
     "metadata": {},
     "output_type": "execute_result"
    }
   ],
   "source": [
    "d_expected"
   ]
  },
  {
   "cell_type": "markdown",
   "metadata": {},
   "source": [
    "#### Task 10.9.4 Suppresion of wavelet coefficients"
   ]
  },
  {
   "cell_type": "code",
   "execution_count": 114,
   "metadata": {},
   "outputs": [],
   "source": [
    "def suppress(D: dict, threshold: float) -> dict:\n",
    "    return {k:(v if abs(v) > threshold else 0.0) for (k, v) in D.items()}"
   ]
  },
  {
   "cell_type": "code",
   "execution_count": 117,
   "metadata": {},
   "outputs": [
    {
     "data": {
      "text/plain": [
       "{(2, 0): 0.0, (2, 1): 0.0, (1, 0): -2.0, (0, 0): 5.0}"
      ]
     },
     "execution_count": 117,
     "metadata": {},
     "output_type": "execute_result"
    }
   ],
   "source": [
    "suppress(forward([1,2,3,4]),1)"
   ]
  },
  {
   "cell_type": "markdown",
   "metadata": {},
   "source": [
    "#### Task 10.9.5 Sparsity of compression"
   ]
  },
  {
   "cell_type": "code",
   "execution_count": 131,
   "metadata": {},
   "outputs": [],
   "source": [
    "def sparsity(D: dict) -> float:\n",
    "    num_non_zeros = sum([1 if abs(x) > 0.00001 else 0 for x in D.values()])\n",
    "    return num_non_zeros / len(D)"
   ]
  },
  {
   "cell_type": "code",
   "execution_count": 132,
   "metadata": {},
   "outputs": [],
   "source": [
    "D = forward([1,2,3,4])"
   ]
  },
  {
   "cell_type": "code",
   "execution_count": 133,
   "metadata": {},
   "outputs": [
    {
     "data": {
      "text/plain": [
       "1.0"
      ]
     },
     "execution_count": 133,
     "metadata": {},
     "output_type": "execute_result"
    }
   ],
   "source": [
    "sparsity(D)"
   ]
  },
  {
   "cell_type": "code",
   "execution_count": 134,
   "metadata": {},
   "outputs": [
    {
     "data": {
      "text/plain": [
       "0.5"
      ]
     },
     "execution_count": 134,
     "metadata": {},
     "output_type": "execute_result"
    }
   ],
   "source": [
    "sparsity(suppress(D,1))"
   ]
  },
  {
   "cell_type": "markdown",
   "metadata": {},
   "source": [
    "#### Task 10.9.6 Unnormalization"
   ]
  },
  {
   "cell_type": "code",
   "execution_count": 135,
   "metadata": {},
   "outputs": [],
   "source": [
    "def unnormalize_coefficients(n: int, D: dict) -> dict:\n",
    "    keys = [k for k in D.keys() if k != (0,0)]\n",
    "    coeffs = dict()\n",
    "    for si in keys:\n",
    "        norm = pow(n / (4 * si[0]), 0.5)\n",
    "        coeffs.update({si:D[si] / norm})\n",
    "    coeffs.update({(0,0): D[(0,0)] / pow(n, 0.5)})\n",
    "    return coeffs"
   ]
  },
  {
   "cell_type": "code",
   "execution_count": 136,
   "metadata": {},
   "outputs": [
    {
     "data": {
      "text/plain": [
       "{(2, 0): -1, (2, 1): -1, (1, 0): -2.0, (0, 0): 2.5}"
      ]
     },
     "execution_count": 136,
     "metadata": {},
     "output_type": "execute_result"
    }
   ],
   "source": [
    "v_test = [1,2,3,4]\n",
    "d_test = forward_no_normalization(v_test)\n",
    "d_test"
   ]
  },
  {
   "cell_type": "code",
   "execution_count": 139,
   "metadata": {},
   "outputs": [
    {
     "data": {
      "text/plain": [
       "{(2, 0): -0.7071067811865476,\n",
       " (2, 1): -0.7071067811865476,\n",
       " (1, 0): -2.0,\n",
       " (0, 0): 5.0}"
      ]
     },
     "execution_count": 139,
     "metadata": {},
     "output_type": "execute_result"
    }
   ],
   "source": [
    "d_norm = normalize_coefficients(4, d_test)\n",
    "d_norm"
   ]
  },
  {
   "cell_type": "code",
   "execution_count": 141,
   "metadata": {},
   "outputs": [
    {
     "data": {
      "text/plain": [
       "{(2, 0): -1.0, (2, 1): -1.0, (1, 0): -2.0, (0, 0): 2.5}"
      ]
     },
     "execution_count": 141,
     "metadata": {},
     "output_type": "execute_result"
    }
   ],
   "source": [
    "d_output = unnormalize_coefficients(4, d_norm)\n",
    "d_output"
   ]
  },
  {
   "cell_type": "markdown",
   "metadata": {},
   "source": [
    "#### Task 10.9.7 Backwards transform without normalization"
   ]
  },
  {
   "cell_type": "code",
   "execution_count": 147,
   "metadata": {},
   "outputs": [],
   "source": [
    "def backward_no_normalization(D: dict) -> list:\n",
    "    n = len(D)\n",
    "    v = [D[(0,0)]]\n",
    "    while len(v) < n:\n",
    "        b_ix = len(v)\n",
    "        vnew = list()\n",
    "        for w_ix, w in enumerate(v):\n",
    "            w_val = D[(b_ix, w_ix)]\n",
    "            vnew.append(w + (w_val / 2))\n",
    "            vnew.append(w - (w_val / 2))\n",
    "        v = vnew\n",
    "    return v"
   ]
  },
  {
   "cell_type": "code",
   "execution_count": 148,
   "metadata": {},
   "outputs": [],
   "source": [
    "v_test = [1,2,3,4]\n",
    "d_test = forward_no_normalization(v_test)"
   ]
  },
  {
   "cell_type": "code",
   "execution_count": 149,
   "metadata": {},
   "outputs": [
    {
     "data": {
      "text/plain": [
       "{(2, 0): -1, (2, 1): -1, (1, 0): -2.0, (0, 0): 2.5}"
      ]
     },
     "execution_count": 149,
     "metadata": {},
     "output_type": "execute_result"
    }
   ],
   "source": [
    "d_test"
   ]
  },
  {
   "cell_type": "code",
   "execution_count": 150,
   "metadata": {},
   "outputs": [
    {
     "data": {
      "text/plain": [
       "[1.0, 2.0, 3.0, 4.0]"
      ]
     },
     "execution_count": 150,
     "metadata": {},
     "output_type": "execute_result"
    }
   ],
   "source": [
    "backward_no_normalization(d_test)"
   ]
  },
  {
   "cell_type": "code",
   "execution_count": 182,
   "metadata": {},
   "outputs": [],
   "source": [
    "v_test=[4,5,3,7,4,5,2,3,9,7,3,5,0,0,0,0]\n",
    "d_test = forward_no_normalization(v_test)"
   ]
  },
  {
   "cell_type": "code",
   "execution_count": 153,
   "metadata": {},
   "outputs": [
    {
     "data": {
      "text/plain": [
       "{(8, 0): -1,\n",
       " (8, 1): -4,\n",
       " (8, 2): -1,\n",
       " (8, 3): -1,\n",
       " (8, 4): 2,\n",
       " (8, 5): -2,\n",
       " (8, 6): 0,\n",
       " (8, 7): 0,\n",
       " (4, 0): -0.5,\n",
       " (4, 1): 2.0,\n",
       " (4, 2): 4.0,\n",
       " (4, 3): 0.0,\n",
       " (2, 0): 1.25,\n",
       " (2, 1): 6.0,\n",
       " (1, 0): 1.125,\n",
       " (0, 0): 3.5625}"
      ]
     },
     "execution_count": 153,
     "metadata": {},
     "output_type": "execute_result"
    }
   ],
   "source": [
    "d_test"
   ]
  },
  {
   "cell_type": "code",
   "execution_count": 154,
   "metadata": {},
   "outputs": [
    {
     "data": {
      "text/plain": [
       "[4.0,\n",
       " 5.0,\n",
       " 3.0,\n",
       " 7.0,\n",
       " 4.0,\n",
       " 5.0,\n",
       " 2.0,\n",
       " 3.0,\n",
       " 9.0,\n",
       " 7.0,\n",
       " 3.0,\n",
       " 5.0,\n",
       " 0.0,\n",
       " 0.0,\n",
       " 0.0,\n",
       " 0.0]"
      ]
     },
     "execution_count": 154,
     "metadata": {},
     "output_type": "execute_result"
    }
   ],
   "source": [
    "backward_no_normalization(d_test)"
   ]
  },
  {
   "cell_type": "markdown",
   "metadata": {},
   "source": [
    "#### Task 10.9.6 Backwards transform taking normalization into account"
   ]
  },
  {
   "cell_type": "code",
   "execution_count": 159,
   "metadata": {},
   "outputs": [],
   "source": [
    "def backwards(D: dict) -> list:\n",
    "    n = len(D)\n",
    "    return backward_no_normalization(unnormalize_coefficients(n, D))"
   ]
  },
  {
   "cell_type": "code",
   "execution_count": 160,
   "metadata": {},
   "outputs": [],
   "source": [
    "v_test = [1,2,3,4]\n",
    "d_test = forward(v_test)"
   ]
  },
  {
   "cell_type": "code",
   "execution_count": 161,
   "metadata": {},
   "outputs": [
    {
     "data": {
      "text/plain": [
       "{(2, 0): -0.7071067811865476,\n",
       " (2, 1): -0.7071067811865476,\n",
       " (1, 0): -2.0,\n",
       " (0, 0): 5.0}"
      ]
     },
     "execution_count": 161,
     "metadata": {},
     "output_type": "execute_result"
    }
   ],
   "source": [
    "d_test"
   ]
  },
  {
   "cell_type": "code",
   "execution_count": 162,
   "metadata": {},
   "outputs": [
    {
     "data": {
      "text/plain": [
       "[1.0, 2.0, 3.0, 4.0]"
      ]
     },
     "execution_count": 162,
     "metadata": {},
     "output_type": "execute_result"
    }
   ],
   "source": [
    "backwards(d_test)"
   ]
  },
  {
   "cell_type": "markdown",
   "metadata": {},
   "source": [
    "### Test with real data"
   ]
  },
  {
   "cell_type": "code",
   "execution_count": 164,
   "metadata": {},
   "outputs": [
    {
     "data": {
      "text/plain": [
       "'/Users/Cisco/Desktop/Master_Dauphine/M2_IEF/cours/semestre2/risque_multifreq/projet/src/exploratory_notebooks'"
      ]
     },
     "execution_count": 164,
     "metadata": {},
     "output_type": "execute_result"
    }
   ],
   "source": [
    "import os\n",
    "os.getcwd()"
   ]
  },
  {
   "cell_type": "code",
   "execution_count": 165,
   "metadata": {},
   "outputs": [],
   "source": [
    "os.chdir('../')"
   ]
  },
  {
   "cell_type": "code",
   "execution_count": 166,
   "metadata": {},
   "outputs": [
    {
     "data": {
      "text/plain": [
       "'/Users/Cisco/Desktop/Master_Dauphine/M2_IEF/cours/semestre2/risque_multifreq/projet/src'"
      ]
     },
     "execution_count": 166,
     "metadata": {},
     "output_type": "execute_result"
    }
   ],
   "source": [
    "os.getcwd()"
   ]
  },
  {
   "cell_type": "code",
   "execution_count": 167,
   "metadata": {},
   "outputs": [],
   "source": [
    "import numpy as np\n",
    "import pandas as pd\n",
    "import matplotlib.pyplot as plt"
   ]
  },
  {
   "cell_type": "code",
   "execution_count": 169,
   "metadata": {},
   "outputs": [],
   "source": [
    "signal = pd.read_excel('data/eurusd.xlsx')"
   ]
  },
  {
   "cell_type": "code",
   "execution_count": 170,
   "metadata": {},
   "outputs": [
    {
     "data": {
      "text/html": [
       "<div>\n",
       "<style scoped>\n",
       "    .dataframe tbody tr th:only-of-type {\n",
       "        vertical-align: middle;\n",
       "    }\n",
       "\n",
       "    .dataframe tbody tr th {\n",
       "        vertical-align: top;\n",
       "    }\n",
       "\n",
       "    .dataframe thead th {\n",
       "        text-align: right;\n",
       "    }\n",
       "</style>\n",
       "<table border=\"1\" class=\"dataframe\">\n",
       "  <thead>\n",
       "    <tr style=\"text-align: right;\">\n",
       "      <th></th>\n",
       "      <th>Date</th>\n",
       "      <th>PX_LAST</th>\n",
       "    </tr>\n",
       "  </thead>\n",
       "  <tbody>\n",
       "    <tr>\n",
       "      <th>0</th>\n",
       "      <td>2020-04-03</td>\n",
       "      <td>1.0801</td>\n",
       "    </tr>\n",
       "    <tr>\n",
       "      <th>1</th>\n",
       "      <td>2020-04-02</td>\n",
       "      <td>1.0858</td>\n",
       "    </tr>\n",
       "    <tr>\n",
       "      <th>2</th>\n",
       "      <td>2020-04-01</td>\n",
       "      <td>1.0964</td>\n",
       "    </tr>\n",
       "    <tr>\n",
       "      <th>3</th>\n",
       "      <td>2020-03-31</td>\n",
       "      <td>1.1031</td>\n",
       "    </tr>\n",
       "    <tr>\n",
       "      <th>4</th>\n",
       "      <td>2020-03-30</td>\n",
       "      <td>1.1048</td>\n",
       "    </tr>\n",
       "  </tbody>\n",
       "</table>\n",
       "</div>"
      ],
      "text/plain": [
       "        Date  PX_LAST\n",
       "0 2020-04-03   1.0801\n",
       "1 2020-04-02   1.0858\n",
       "2 2020-04-01   1.0964\n",
       "3 2020-03-31   1.1031\n",
       "4 2020-03-30   1.1048"
      ]
     },
     "execution_count": 170,
     "metadata": {},
     "output_type": "execute_result"
    }
   ],
   "source": [
    "signal.head()"
   ]
  },
  {
   "cell_type": "code",
   "execution_count": 171,
   "metadata": {},
   "outputs": [],
   "source": [
    "from production_code import constants"
   ]
  },
  {
   "cell_type": "code",
   "execution_count": 172,
   "metadata": {},
   "outputs": [],
   "source": [
    "signal = signal.loc[signal[\"Date\"] <= constants.NON_POW_END_DATE]\n",
    "signal = signal.loc[signal[\"Date\"] >= constants.NON_POW_START_DATE]\n",
    "signal = signal[\"PX_LAST\"].to_numpy()"
   ]
  },
  {
   "cell_type": "code",
   "execution_count": 173,
   "metadata": {},
   "outputs": [
    {
     "data": {
      "text/plain": [
       "[<matplotlib.lines.Line2D at 0x11da7edd8>]"
      ]
     },
     "execution_count": 173,
     "metadata": {},
     "output_type": "execute_result"
    },
    {
     "data": {
      "image/png": "[encoded data removed]",
      "text/plain": [
       "<Figure size 432x288 with 1 Axes>"
      ]
     },
     "metadata": {
      "needs_background": "light"
     },
     "output_type": "display_data"
    }
   ],
   "source": [
    "plt.plot(signal)"
   ]
  },
  {
   "cell_type": "code",
   "execution_count": 223,
   "metadata": {},
   "outputs": [
    {
     "name": "stdout",
     "output_type": "stream",
     "text": [
      "512\n"
     ]
    }
   ],
   "source": [
    "# Get power of 2 observations\n",
    "import math\n",
    "\n",
    "k = len(signal)\n",
    "while not (math.log2(k).is_integer()):\n",
    "    k -= 1\n",
    "\n",
    "print(k)"
   ]
  },
  {
   "cell_type": "code",
   "execution_count": 224,
   "metadata": {},
   "outputs": [],
   "source": [
    "# we choose right side of vector (for forecasting)\n",
    "signal = signal[len(signal) - k:]"
   ]
  },
  {
   "cell_type": "code",
   "execution_count": 226,
   "metadata": {},
   "outputs": [
    {
     "data": {
      "text/plain": [
       "[<matplotlib.lines.Line2D at 0x11db10198>]"
      ]
     },
     "execution_count": 226,
     "metadata": {},
     "output_type": "execute_result"
    },
    {
     "data": {
      "image/png": "[encoded data removed]",
      "text/plain": [
       "<Figure size 432x288 with 1 Axes>"
      ]
     },
     "metadata": {
      "needs_background": "light"
     },
     "output_type": "display_data"
    }
   ],
   "source": [
    "plt.plot(signal)"
   ]
  },
  {
   "cell_type": "code",
   "execution_count": 227,
   "metadata": {},
   "outputs": [],
   "source": [
    "wavelet_coeffs = forward(signal)"
   ]
  },
  {
   "cell_type": "code",
   "execution_count": 235,
   "metadata": {},
   "outputs": [],
   "source": [
    "wavelet_coeffs = suppress(wavelet_coeffs, 0.05)"
   ]
  },
  {
   "cell_type": "code",
   "execution_count": 236,
   "metadata": {},
   "outputs": [],
   "source": [
    "reconstruct_signal = backwards(wavelet_coeffs)"
   ]
  },
  {
   "cell_type": "code",
   "execution_count": 237,
   "metadata": {},
   "outputs": [
    {
     "data": {
      "text/plain": [
       "[<matplotlib.lines.Line2D at 0x11ee8dc88>]"
      ]
     },
     "execution_count": 237,
     "metadata": {},
     "output_type": "execute_result"
    },
    {
     "data": {
      "image/png": "[encoded data removed]",
      "text/plain": [
       "<Figure size 432x288 with 1 Axes>"
      ]
     },
     "metadata": {
      "needs_background": "light"
     },
     "output_type": "display_data"
    }
   ],
   "source": [
    "plt.plot(reconstruct_signal)"
   ]
  },
  {
   "cell_type": "code",
   "execution_count": 231,
   "metadata": {},
   "outputs": [
    {
     "data": {
      "text/plain": [
       "{(256, 0): 0.022203152929257505,\n",
       " (256, 1): 0.0012020815280171554,\n",
       " (256, 2): 0.006788225099390894,\n",
       " (256, 3): 0.01732411613907039,\n",
       " (256, 4): 0.004242640687119289,\n",
       " (256, 5): 0.0072831998462214225,\n",
       " (256, 6): -0.015061374439273531,\n",
       " (256, 7): -0.013081475451951102,\n",
       " (256, 8): 0.025880108191427775,\n",
       " (256, 9): -0.002545584412271448,\n",
       " (256, 10): -0.002262741699797017,\n",
       " (256, 11): -0.011596551211459359,\n",
       " (256, 12): -0.0012020815280171554,\n",
       " (256, 13): 0.002121320343559566,\n",
       " (256, 14): -0.016899852070358354,\n",
       " (256, 15): 0.023900209204105346,\n",
       " (256, 16): -0.013364318164425848,\n",
       " (256, 17): 0.01979898987322335,\n",
       " (256, 18): -0.009192388155425049,\n",
       " (256, 19): 0.005586143571373895,\n",
       " (256, 20): -0.019869700551341997,\n",
       " (256, 21): -0.0032526911934582315,\n",
       " (256, 22): -0.008485281374238578,\n",
       " (256, 23): 0.012162236636408535,\n",
       " (256, 24): -0.0035355339059326626,\n",
       " (256, 25): 0.006293250352560366,\n",
       " (256, 26): -0.0033234018715767215,\n",
       " (256, 27): -0.0058689862838483264,\n",
       " (256, 28): -0.012657211383239221,\n",
       " (256, 29): -0.0008485281374237636,\n",
       " (256, 30): -0.008909545442950617,\n",
       " (256, 31): 0.008343860018001284,\n",
       " (256, 32): 0.013930003589374866,\n",
       " (256, 33): 0.0013435028842544495,\n",
       " (256, 34): 0.0,\n",
       " (256, 35): 0.0,\n",
       " (256, 36): -0.004101219330881995,\n",
       " (256, 37): -0.0015556349186103904,\n",
       " (256, 38): -0.003959797974644701,\n",
       " (256, 39): -0.0014849242404917434,\n",
       " (256, 40): -0.007141778489984129,\n",
       " (256, 41): -0.007495331880577364,\n",
       " (256, 42): -0.002050609665441076,\n",
       " (256, 43): 0.0,\n",
       " (256, 44): -0.006576093065034953,\n",
       " (256, 45): 0.0012020815280171554,\n",
       " (256, 46): -0.02262741699796954,\n",
       " (256, 47): -0.0032526911934580745,\n",
       " (256, 48): 0.0008485281374237636,\n",
       " (256, 49): 0.0019091883092037822,\n",
       " (256, 50): -0.010818733752154242,\n",
       " (256, 51): 0.002262741699797017,\n",
       " (256, 52): -0.0060811183182044246,\n",
       " (256, 53): 0.005303300858899151,\n",
       " (256, 54): 0.002545584412271605,\n",
       " (256, 55): 0.0,\n",
       " (256, 56): 0.010606601717798144,\n",
       " (256, 57): 0.005161879502661857,\n",
       " (256, 58): 0.0014142135623730963,\n",
       " (256, 59): -0.012657211383239221,\n",
       " (256, 60): 0.002687005768508899,\n",
       " (256, 61): 0.002616295090390409,\n",
       " (256, 62): 0.007000357133746835,\n",
       " (256, 63): -0.006293250352560209,\n",
       " (256, 64): -0.002121320343559723,\n",
       " (256, 65): 0.002404163056034311,\n",
       " (256, 66): -0.004171930009000642,\n",
       " (256, 67): 0.0060104076400857775,\n",
       " (256, 68): -0.009333809511662343,\n",
       " (256, 69): 0.010818733752154086,\n",
       " (256, 70): -0.006505382386916306,\n",
       " (256, 71): 0.002474873734153115,\n",
       " (256, 72): -0.0037476659402887603,\n",
       " (256, 73): 0.0005656854249491758,\n",
       " (256, 74): -0.004384062043356426,\n",
       " (256, 75): 0.00961665222413693,\n",
       " (256, 76): 0.009121677477306559,\n",
       " (256, 77): 0.0,\n",
       " (256, 78): 0.005020458146424406,\n",
       " (256, 79): 0.0,\n",
       " (256, 80): 0.002616295090390409,\n",
       " (256, 81): -0.0035355339059328196,\n",
       " (256, 82): 0.0035355339059328196,\n",
       " (256, 83): 0.0019091883092037822,\n",
       " (256, 84): -0.014637110370561493,\n",
       " (256, 85): 0.005586143571373738,\n",
       " (256, 86): -0.006363961030679013,\n",
       " (256, 87): 0.011172287142747477,\n",
       " (256, 88): 0.0016970562748478413,\n",
       " (256, 89): -0.006293250352560209,\n",
       " (256, 90): 0.0,\n",
       " (256, 91): 0.0037476659402887603,\n",
       " (256, 92): 0.00509116882454321,\n",
       " (256, 93): -0.0005656854249493328,\n",
       " (256, 94): -0.0046669047558311715,\n",
       " (256, 95): 0.01605132393293459,\n",
       " (256, 96): 0.0,\n",
       " (256, 97): 0.0,\n",
       " (256, 98): 0.003959797974644544,\n",
       " (256, 99): 0.0059396969619669735,\n",
       " (256, 100): 0.0,\n",
       " (256, 101): -0.0017677669529664883,\n",
       " (256, 102): 0.0033941125496953686,\n",
       " (256, 103): 0.0017677669529663313,\n",
       " (256, 104): 0.0051618795026617,\n",
       " (256, 105): 0.010182337649086264,\n",
       " (256, 106): 0.0009192388155424106,\n",
       " (256, 107): -0.0007778174593051167,\n",
       " (256, 108): -0.0016970562748476843,\n",
       " (256, 109): 0.004949747468305759,\n",
       " (256, 110): 0.004596194077712524,\n",
       " (256, 111): 0.0013435028842544495,\n",
       " (256, 112): -0.0010606601717798615,\n",
       " (256, 113): 0.001979898987322429,\n",
       " (256, 114): 0.0,\n",
       " (256, 115): 0.0,\n",
       " (256, 116): -0.005232590180780504,\n",
       " (256, 117): 0.0,\n",
       " (256, 118): -0.0118086832458153,\n",
       " (256, 119): -0.0007071067811866267,\n",
       " (256, 120): -0.004596194077712524,\n",
       " (256, 121): -0.001979898987322272,\n",
       " (256, 122): -0.0033941125496953686,\n",
       " (256, 123): -0.0033234018715767215,\n",
       " (256, 124): 0.002474873734152958,\n",
       " (256, 125): 0.0,\n",
       " (256, 126): 0.006858935777509384,\n",
       " (256, 127): 0.006151828996323072,\n",
       " (256, 128): 0.0009192388155425676,\n",
       " (256, 129): -0.0038183766184072504,\n",
       " (256, 130): 0.0009899494936612145,\n",
       " (256, 131): -0.014424978336205553,\n",
       " (256, 132): 0.0036062445840514667,\n",
       " (256, 133): 0.0038183766184074074,\n",
       " (256, 134): 0.001979898987322272,\n",
       " (256, 135): 0.006434671708797659,\n",
       " (256, 136): -0.007848885271170598,\n",
       " (256, 137): 0.0008485281374239206,\n",
       " (256, 138): 0.002474873734152958,\n",
       " (256, 139): -0.0006363961030678227,\n",
       " (256, 140): 0.01244507934888328,\n",
       " (256, 141): 0.0035355339059326626,\n",
       " (256, 142): 0.0034648232278141726,\n",
       " (256, 143): -0.010394469683442204,\n",
       " (256, 144): 0.002757716446627546,\n",
       " (256, 145): 0.006222539674441562,\n",
       " (256, 146): 0.005586143571373895,\n",
       " (256, 147): 0.0038890872965260544,\n",
       " (256, 148): 0.00226274169979686,\n",
       " (256, 149): 0.004101219330881838,\n",
       " (256, 150): 0.005798275605729679,\n",
       " (256, 151): 0.0,\n",
       " (256, 152): 0.002474873734152958,\n",
       " (256, 153): 0.0019091883092037822,\n",
       " (256, 154): 0.0036062445840514667,\n",
       " (256, 155): 0.004101219330881995,\n",
       " (256, 156): 0.0,\n",
       " (256, 157): -0.004525483399593877,\n",
       " (256, 158): -0.002545584412271605,\n",
       " (256, 159): 0.0017677669529663313,\n",
       " (256, 160): 0.0036062445840513093,\n",
       " (256, 161): 0.0019091883092036252,\n",
       " (256, 162): -0.0019091883092037822,\n",
       " (256, 163): -0.0005656854249491758,\n",
       " (256, 164): -0.0013435028842544495,\n",
       " (256, 165): 0.002616295090390409,\n",
       " (256, 166): 0.005444722215136445,\n",
       " (256, 167): 0.0028991378028648397,\n",
       " (256, 168): 0.0,\n",
       " (256, 169): -0.0036769552621701133,\n",
       " (256, 170): -0.003111269837220781,\n",
       " (256, 171): 0.007778174593051952,\n",
       " (256, 172): 0.005444722215136445,\n",
       " (256, 173): 0.0,\n",
       " (256, 174): -0.0011313708498985086,\n",
       " (256, 175): -0.005656854249492385,\n",
       " (256, 176): 0.0010606601717798615,\n",
       " (256, 177): 0.004384062043356583,\n",
       " (256, 178): 0.0014142135623730963,\n",
       " (256, 179): 0.002545584412271605,\n",
       " (256, 180): -0.0009192388155424106,\n",
       " (256, 181): -0.007848885271170756,\n",
       " (256, 182): -0.007141778489984129,\n",
       " (256, 183): -0.0014142135623730963,\n",
       " (256, 184): 0.0,\n",
       " (256, 185): 0.0006363961030678227,\n",
       " (256, 186): 0.0,\n",
       " (256, 187): 0.0,\n",
       " (256, 188): 0.0,\n",
       " (256, 189): -0.0009899494936610575,\n",
       " (256, 190): -0.0009899494936612145,\n",
       " (256, 191): 0.006505382386916306,\n",
       " (256, 192): 0.0,\n",
       " (256, 193): 0.0,\n",
       " (256, 194): -0.0010606601717798615,\n",
       " (256, 195): 0.0009192388155425676,\n",
       " (256, 196): 0.005374011537017798,\n",
       " (256, 197): 0.0006363961030678227,\n",
       " (256, 198): -0.0011313708498983516,\n",
       " (256, 199): -0.005020458146424563,\n",
       " (256, 200): 0.002404163056034311,\n",
       " (256, 201): 0.0,\n",
       " (256, 202): -0.0013435028842544495,\n",
       " (256, 203): 0.0007071067811864697,\n",
       " (256, 204): -0.002121320343559566,\n",
       " (256, 205): -0.0014849242404917434,\n",
       " (256, 206): 0.0010606601717798615,\n",
       " (256, 207): -0.005374011537017798,\n",
       " (256, 208): 0.0015556349186103904,\n",
       " (256, 209): -0.0030405591591021338,\n",
       " (256, 210): -0.004101219330881995,\n",
       " (256, 211): 0.0029698484809834867,\n",
       " (256, 212): -0.0008485281374239206,\n",
       " (256, 213): 0.0,\n",
       " (256, 214): -0.002616295090390095,\n",
       " (256, 215): 0.00445477272147523,\n",
       " (256, 216): -0.0016263455967290372,\n",
       " (256, 217): 0.0029698484809834867,\n",
       " (256, 218): 0.0005656854249491758,\n",
       " (256, 219): 0.0036062445840514667,\n",
       " (256, 220): 0.0060811183182042676,\n",
       " (256, 221): -0.0035355339059328196,\n",
       " (256, 222): 0.002687005768508899,\n",
       " (256, 223): 0.0008485281374239206,\n",
       " (256, 224): 0.0012727922061358025,\n",
       " (256, 225): 0.0015556349186103904,\n",
       " (256, 226): -0.0033941125496953686,\n",
       " (256, 227): 0.004808326112068622,\n",
       " (256, 228): -0.0011313708498983516,\n",
       " (256, 229): 0.0010606601717797046,\n",
       " (256, 230): 0.0005656854249493328,\n",
       " (256, 231): -0.0012020815280171554,\n",
       " (256, 232): 0.0034648232278140156,\n",
       " (256, 233): -0.007212489168102776,\n",
       " (256, 234): -0.0030405591591021338,\n",
       " (256, 235): 0.0038183766184074074,\n",
       " (256, 236): 0.0028284271247461927,\n",
       " (256, 237): 0.0,\n",
       " (256, 238): 0.0012727922061356455,\n",
       " (256, 239): 0.0007071067811866267,\n",
       " (256, 240): 0.005161879502661857,\n",
       " (256, 241): -0.002404163056034311,\n",
       " (256, 242): 0.0019091883092037822,\n",
       " (256, 243): -0.002262741699797017,\n",
       " (256, 244): -0.0007071067811864697,\n",
       " (256, 245): 0.0009192388155424106,\n",
       " (256, 246): -0.0010606601717797046,\n",
       " (256, 247): -0.003959797974644701,\n",
       " (256, 248): 0.0,\n",
       " (256, 249): 0.0017677669529663313,\n",
       " (256, 250): -0.0014142135623730963,\n",
       " (256, 251): 0.002121320343559723,\n",
       " (256, 252): -0.004384062043356583,\n",
       " (256, 253): 0.0015556349186103904,\n",
       " (256, 254): -0.0060104076400856205,\n",
       " (256, 255): 0.005091168824543053,\n",
       " (128, 0): 0.048450000000000104,\n",
       " (128, 1): 0.01344999999999974,\n",
       " (128, 2): 0.00845000000000029,\n",
       " (128, 3): -0.01750000000000007,\n",
       " (128, 4): 0.029900000000000038,\n",
       " (128, 5): -0.00529999999999986,\n",
       " (128, 6): -0.021949999999999914,\n",
       " (128, 7): 0.0022499999999998632,\n",
       " (128, 8): 0.0,\n",
       " (128, 9): -0.03364999999999996,\n",
       " (128, 10): -0.022950000000000248,\n",
       " (128, 11): 0.006399999999999961,\n",
       " (128, 12): 0.008550000000000058,\n",
       " (128, 13): -0.025500000000000078,\n",
       " (128, 14): -0.009050000000000002,\n",
       " (128, 15): 0.03039999999999976,\n",
       " (128, 16): -0.000600000000000156,\n",
       " (128, 17): -0.013250000000000206,\n",
       " (128, 18): -0.021299999999999653,\n",
       " (128, 19): -0.00714999999999999,\n",
       " (128, 20): -0.014249999999999874,\n",
       " (128, 21): 0.007099999999999884,\n",
       " (128, 22): -0.0044999999999999485,\n",
       " (128, 23): -0.026599999999999957,\n",
       " (128, 24): -0.0019499999999998963,\n",
       " (128, 25): -0.002849999999999797,\n",
       " (128, 26): -0.014349999999999863,\n",
       " (128, 27): -0.006449999999999845,\n",
       " (128, 28): 0.015649999999999942,\n",
       " (128, 29): -0.007649999999999935,\n",
       " (128, 30): 0.0,\n",
       " (128, 31): 0.00550000000000006,\n",
       " (128, 32): 0.0026000000000001577,\n",
       " (128, 33): -0.010000000000000009,\n",
       " (128, 34): 0.019549999999999956,\n",
       " (128, 35): -0.004549999999999832,\n",
       " (128, 36): -0.010149999999999881,\n",
       " (128, 37): 0.01859999999999995,\n",
       " (128, 38): 0.003849999999999909,\n",
       " (128, 39): 0.012499999999999956,\n",
       " (128, 40): 0.006549999999999834,\n",
       " (128, 41): -0.004650000000000265,\n",
       " (128, 42): -0.016599999999999948,\n",
       " (128, 43): -0.0005999999999999339,\n",
       " (128, 44): 0.003349999999999964,\n",
       " (128, 45): 0.0,\n",
       " (128, 46): -0.014200000000000212,\n",
       " (128, 47): 0.027549999999999963,\n",
       " (128, 48): -0.019549999999999734,\n",
       " (128, 49): 0.010900000000000132,\n",
       " (128, 50): -0.002650000000000041,\n",
       " (128, 51): 0.00495000000000001,\n",
       " (128, 52): 0.02544999999999975,\n",
       " (128, 53): 0.010000000000000231,\n",
       " (128, 54): 0.006200000000000205,\n",
       " (128, 55): 0.005699999999999816,\n",
       " (128, 56): -0.017649999999999944,\n",
       " (128, 57): 0.008299999999999752,\n",
       " (128, 58): 0.00890000000000013,\n",
       " (128, 59): -0.010950000000000237,\n",
       " (128, 60): 0.004649999999999821,\n",
       " (128, 61): -0.003650000000000153,\n",
       " (128, 62): 0.014200000000000212,\n",
       " (128, 63): 0.02289999999999992,\n",
       " (128, 64): 0.003249999999999975,\n",
       " (128, 65): -0.012399999999999967,\n",
       " (128, 66): 0.0,\n",
       " (128, 67): -0.008849999999999802,\n",
       " (128, 68): -0.01464999999999983,\n",
       " (128, 69): 0.0,\n",
       " (128, 70): 0.011599999999999833,\n",
       " (128, 71): 0.0021999999999999797,\n",
       " (128, 72): 0.014350000000000085,\n",
       " (128, 73): 0.0,\n",
       " (128, 74): 0.011400000000000077,\n",
       " (128, 75): -0.007600000000000051,\n",
       " (128, 76): 0.0,\n",
       " (128, 77): 0.009349999999999747,\n",
       " (128, 78): 0.0015000000000000568,\n",
       " (128, 79): 0.010850000000000026,\n",
       " (128, 80): 0.0034999999999998366,\n",
       " (128, 81): 0.009950000000000125,\n",
       " (128, 82): 0.007400000000000073,\n",
       " (128, 83): 0.010399999999999743,\n",
       " (128, 84): -0.0023999999999999577,\n",
       " (128, 85): 0.0,\n",
       " (128, 86): 0.0030000000000001137,\n",
       " (128, 87): -0.013900000000000023,\n",
       " (128, 88): -0.008150000000000102,\n",
       " (128, 89): 0.009799999999999809,\n",
       " (128, 90): 0.0,\n",
       " (128, 91): -0.004450000000000065,\n",
       " (128, 92): 0.0026999999999999247,\n",
       " (128, 93): 0.00395000000000012,\n",
       " (128, 94): 0.0020499999999998852,\n",
       " (128, 95): 0.012100000000000222,\n",
       " (128, 96): -0.0012499999999999734,\n",
       " (128, 97): -0.0023999999999999577,\n",
       " (128, 98): 0.004350000000000076,\n",
       " (128, 99): -0.01034999999999986,\n",
       " (128, 100): 0.005600000000000049,\n",
       " (128, 101): -0.0008500000000000174,\n",
       " (128, 102): -0.0014500000000001734,\n",
       " (128, 103): -0.005149999999999988,\n",
       " (128, 104): 0.002850000000000019,\n",
       " (128, 105): 0.0,\n",
       " (128, 106): -0.0052000000000000934,\n",
       " (128, 107): 0.001100000000000101,\n",
       " (128, 108): 0.0013499999999999623,\n",
       " (128, 109): 0.007449999999999957,\n",
       " (128, 110): -0.0006999999999999229,\n",
       " (128, 111): -0.0010999999999998789,\n",
       " (128, 112): -0.0019000000000000128,\n",
       " (128, 113): -0.0044999999999999485,\n",
       " (128, 114): 0.007950000000000124,\n",
       " (128, 115): 0.006850000000000245,\n",
       " (128, 116): 0.0011499999999999844,\n",
       " (128, 117): -0.0007500000000000284,\n",
       " (128, 118): 0.0007500000000000284,\n",
       " (128, 119): 0.0010999999999998789,\n",
       " (128, 120): -0.0022499999999998632,\n",
       " (128, 121): 0.005350000000000188,\n",
       " (128, 122): 0.006350000000000078,\n",
       " (128, 123): -0.007449999999999957,\n",
       " (128, 124): 0.0,\n",
       " (128, 125): 0.002000000000000224,\n",
       " (128, 126): -0.0043999999999999595,\n",
       " (128, 127): -0.011050000000000004,\n",
       " (64, 0): 0.09828784258493029,\n",
       " (64, 1): -0.02549119946177498,\n",
       " (64, 2): -0.005656854249492071,\n",
       " (64, 3): -0.02828427124746224,\n",
       " (64, 4): 0.013505739520662984,\n",
       " (64, 5): -0.029521708114538327,\n",
       " (64, 6): -0.04762364171291415,\n",
       " (64, 7): 0.0015202795795509884,\n",
       " (64, 8): 0.023511300474452553,\n",
       " (64, 9): -0.03935049237303167,\n",
       " (64, 10): 0.006894291116568786,\n",
       " (64, 11): -0.05699280656363542,\n",
       " (64, 12): -0.01400071426749367,\n",
       " (64, 13): -0.009121677477306245,\n",
       " (64, 14): 0.004313351365237936,\n",
       " (64, 15): 0.02612759556484296,\n",
       " (64, 16): 0.006717514421272247,\n",
       " (64, 17): 0.01421284630184914,\n",
       " (64, 18): 0.006257895013501121,\n",
       " (64, 19): 0.005409366876077043,\n",
       " (64, 20): -0.019586857838867253,\n",
       " (64, 21): 0.0,\n",
       " (64, 22): 0.013046120112892171,\n",
       " (64, 23): 0.006611448404094198,\n",
       " (64, 24): -0.016935207409417913,\n",
       " (64, 25): 0.019516147160748763,\n",
       " (64, 26): 0.03659277592640397,\n",
       " (64, 27): 0.016404877323527668,\n",
       " (64, 28): -0.013046120112891857,\n",
       " (64, 29): 0.01149048519428131,\n",
       " (64, 30): 0.015839191898578804,\n",
       " (64, 31): 0.014354267658087063,\n",
       " (64, 32): -0.013682516215959837,\n",
       " (64, 33): 0.002050609665441233,\n",
       " (64, 34): -0.013046120112891857,\n",
       " (64, 35): 0.01124299782086628,\n",
       " (64, 36): 0.01735947147812948,\n",
       " (64, 37): 0.013010764773832612,\n",
       " (64, 38): 0.009510586206959194,\n",
       " (64, 39): -0.009227743494484608,\n",
       " (64, 40): 0.0246426713243509,\n",
       " (64, 41): 0.025455844122715735,\n",
       " (64, 42): 0.002333452377915821,\n",
       " (64, 43): -0.001979898987322429,\n",
       " (64, 44): -0.0010960155108391066,\n",
       " (64, 45): -0.01467246570962058,\n",
       " (64, 46): 0.0034294678887546136,\n",
       " (64, 47): 0.008591347391416627,\n",
       " (64, 48): 0.007318555185280668,\n",
       " (64, 49): -0.012515790027001927,\n",
       " (64, 50): 0.005126524163602455,\n",
       " (64, 51): -0.010748023074035596,\n",
       " (64, 52): -0.007106423150924884,\n",
       " (64, 53): 0.0014142135623732533,\n",
       " (64, 54): 0.014283556979968259,\n",
       " (64, 55): 0.006505382386916149,\n",
       " (64, 56): 0.0,\n",
       " (64, 57): 0.015768481220459686,\n",
       " (64, 58): -0.009121677477306559,\n",
       " (64, 59): 0.0,\n",
       " (64, 60): 0.0059396969619669735,\n",
       " (64, 61): 0.004879036790187426,\n",
       " (64, 62): 0.004843681451127553,\n",
       " (64, 63): -0.026976123702267037,\n",
       " (32, 0): 0.0920749999999999,\n",
       " (32, 1): -0.01654999999999962,\n",
       " (32, 2): -0.12972499999999965,\n",
       " (32, 3): -0.1619499999999996,\n",
       " (32, 4): -0.07885000000000053,\n",
       " (32, 5): -0.06922499999999987,\n",
       " (32, 6): -0.0431499999999998,\n",
       " (32, 7): 0.017425000000000246,\n",
       " (32, 8): -0.01615000000000011,\n",
       " (32, 9): 0.04380000000000006,\n",
       " (32, 10): -0.06325000000000003,\n",
       " (32, 11): 0.011900000000000244,\n",
       " (32, 12): 0.060474999999999834,\n",
       " (32, 13): 0.06377500000000014,\n",
       " (32, 14): 0.028200000000000003,\n",
       " (32, 15): 0.02929999999999966,\n",
       " (32, 16): -0.050975000000000215,\n",
       " (32, 17): 0.030524999999999913,\n",
       " (32, 18): 0.04347499999999993,\n",
       " (32, 19): -0.0009499999999995623,\n",
       " (32, 20): 0.04807500000000031,\n",
       " (32, 21): 0.02685000000000004,\n",
       " (32, 22): -0.00254999999999983,\n",
       " (32, 23): 0.03840000000000021,\n",
       " (32, 24): 0.012375000000000025,\n",
       " (32, 25): -0.0056749999999996525,\n",
       " (32, 26): -0.014624999999999666,\n",
       " (32, 27): 0.033350000000000435,\n",
       " (32, 28): 0.023199999999999665,\n",
       " (32, 29): 0.007424999999999571,\n",
       " (32, 30): 0.00295000000000023,\n",
       " (32, 31): -0.030250000000000554,\n",
       " (16, 0): 0.09706808338738318,\n",
       " (16, 1): -0.3001491509441599,\n",
       " (16, 2): -0.16374825285327435,\n",
       " (16, 3): 0.003164302845809334,\n",
       " (16, 4): -0.016970562748477157,\n",
       " (16, 5): -0.005161879502662328,\n",
       " (16, 6): 0.19685852788233577,\n",
       " (16, 7): 0.005480077554195533,\n",
       " (16, 8): -0.05190163773909221,\n",
       " (16, 9): 0.07210721401149846,\n",
       " (16, 10): 0.09165871651130678,\n",
       " (16, 11): 0.015450283168925855,\n",
       " (16, 12): -0.02025860928099385,\n",
       " (16, 13): 0.03438306723519613,\n",
       " (16, 14): 0.031696061466686604,\n",
       " (16, 15): -0.00717713382904306,\n",
       " (8, 0): -0.3101749999999992,\n",
       " (8, 1): -0.439025,\n",
       " (8, 2): -0.0658499999999993,\n",
       " (8, 3): 0.1579000000000006,\n",
       " (8, 4): 0.14103750000000037,\n",
       " (8, 5): 0.00658750000000019,\n",
       " (8, 6): -0.032962500000000006,\n",
       " (8, 7): 0.08736249999999934,\n",
       " (4, 0): -1.0983136078780051,\n",
       " (4, 1): 0.4213649309090652,\n",
       " (4, 2): 0.42205436002071983,\n",
       " (4, 3): 0.21110672952324416,\n",
       " (2, 0): -0.8412249999999979,\n",
       " (2, 1): 0.6372874999999993,\n",
       " (1, 0): 1.1829277730817396,\n",
       " (0, 0): 32.164758357761734}"
      ]
     },
     "execution_count": 231,
     "metadata": {},
     "output_type": "execute_result"
    }
   ],
   "source": [
    "wavelet_coeffs"
   ]
  },
  {
   "cell_type": "code",
   "execution_count": null,
   "metadata": {},
   "outputs": [],
   "source": []
  }
 ],
 "metadata": {
  "kernelspec": {
   "display_name": "Python 3",
   "language": "python",
   "name": "python3"
  },
  "language_info": {
   "codemirror_mode": {
    "name": "ipython",
    "version": 3
   },
   "file_extension": ".py",
   "mimetype": "text/x-python",
   "name": "python",
   "nbconvert_exporter": "python",
   "pygments_lexer": "ipython3",
   "version": "3.6.10"
  }
 },
 "nbformat": 4,
 "nbformat_minor": 4
}
