{
 "cells": [
  {
   "cell_type": "code",
   "execution_count": 1,
   "metadata": {},
   "outputs": [
    {
     "data": {
      "image/png": "[encoded data removed]",
      "text/plain": [
       "<Figure size 432x288 with 1 Axes>"
      ]
     },
     "metadata": {
      "needs_background": "light"
     },
     "output_type": "display_data"
    }
   ],
   "source": [
    "import numpy as np\n",
    "import pandas as pd\n",
    "import matplotlib.pyplot as plt\n",
    "\n",
    "eurodol = pd.read_excel(\"eurusd.xlsx\").iloc[:,1]\n",
    "\n",
    "# Paramètre\n",
    "j = -4\n",
    "\n",
    "t = np.linspace(0, np.size(eurodol)-1, np.size(eurodol))\n",
    "k =  np.linspace(-1, np.size(eurodol)-2, np.size(eurodol))\n",
    "\n",
    "# Détermination de nb_k\n",
    "nb_k = int(np.ceil(np.size(eurodol)/2**(-j)) + 2)\n",
    "\n",
    "# Initialisations\n",
    "k1 = np.array(np.zeros(nb_k+1))\n",
    "k2 = np.array(np.zeros(nb_k+1))\n",
    "coeff = np.array(np.zeros(nb_k+1))\n",
    "\n",
    "# Scale coefficient\n",
    "for i in range(0, nb_k+1):\n",
    "    k1[i] = k[i] * 2**(-j)\n",
    "    k2[i] = (k[i] + 1) * 2**(-j)\n",
    "    \n",
    "    sum1 = 0\n",
    "    sum2 = 0\n",
    "\n",
    "    for p in range(0, np.size(eurodol)):\n",
    "        if(t[p] >= k1[i]):\n",
    "            sum1 += eurodol[p]\n",
    "        if(t[p] >= k2[i]):\n",
    "            sum2 += eurodol[p]\n",
    "\n",
    "    coeff[i] = 2**(j/2) * (sum1 - sum2)\n",
    "\n",
    "# Initialisations\n",
    "t1 = np.array(np.zeros(np.size(eurodol)-1))\n",
    "t2 = np.array(np.zeros(np.size(eurodol)-1))\n",
    "approx = np.array(np.zeros(np.size(eurodol)))\n",
    "\n",
    "# Approximation\n",
    "for i in range(1, np.size(eurodol)):\n",
    "    t1[i-1] = 2**j * t[i-1] - 1\n",
    "    t2[i-1] = 2**j * t[i-1]\n",
    "    \n",
    "    sum1 = 0\n",
    "    sum2 = 0\n",
    "    for p in range(0, nb_k):\n",
    "        if(k[p] >= t1[i-1]):\n",
    "            sum1 += coeff[p]\n",
    "        if(k[p] >= t2[i-1]):\n",
    "            sum2 += coeff[p]\n",
    "        \n",
    "    approx[i] = 2**(j/2) * (sum1 - sum2)\n",
    "\n",
    "coeff = coeff[1:np.size(coeff)-3]    \n",
    "approx = approx[2:np.size(eurodol)-2**(-j)]\n",
    "\n",
    "# Affichage\n",
    "#plt.plot(eurodol)\n",
    "#plt.plot(approx)\n",
    "plt.plot(coeff)\n",
    "plt.show()"
   ]
  }
 ],
 "metadata": {
  "kernelspec": {
   "display_name": "Python 3",
   "language": "python",
   "name": "python3"
  },
  "language_info": {
   "codemirror_mode": {
    "name": "ipython",
    "version": 3
   },
   "file_extension": ".py",
   "mimetype": "text/x-python",
   "name": "python",
   "nbconvert_exporter": "python",
   "pygments_lexer": "ipython3",
   "version": "3.6.10"
  }
 },
 "nbformat": 4,
 "nbformat_minor": 4
}
